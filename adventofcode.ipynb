{
 "cells": [
  {
   "cell_type": "markdown",
   "metadata": {},
   "source": [
    "# Day 1 - Calorie Counting"
   ]
  },
  {
   "cell_type": "code",
   "execution_count": 41,
   "metadata": {},
   "outputs": [
    {
     "data": {
      "text/plain": [
       "(67658, 200158)"
      ]
     },
     "execution_count": 41,
     "metadata": {},
     "output_type": "execute_result"
    }
   ],
   "source": [
    "\n",
    "import pandas as pd\n",
    "\n",
    "with open(\"./resources/day1.txt\") as f:\n",
    "    input = f.read()\n",
    "\n",
    "sums = [pd.Series(elve.split(\"\\n\")).astype(int).sum() for elve in input.split(\"\\n\\n\")]\n",
    "part1 = max(sums)\n",
    "part2 = pd.Series(sums).sort_values(ascending=False).head(3).sum()\n",
    "    \n",
    "part1, part2"
   ]
  },
  {
   "cell_type": "markdown",
   "metadata": {},
   "source": [
    "# Day 2 - Rock Paper Scissors"
   ]
  },
  {
   "cell_type": "code",
   "execution_count": 44,
   "metadata": {},
   "outputs": [
    {
     "data": {
      "text/plain": [
       "(15337, 11696)"
      ]
     },
     "execution_count": 44,
     "metadata": {},
     "output_type": "execute_result"
    }
   ],
   "source": [
    "import pandas as pd\n",
    "\n",
    "with open(\"./resources/day2.txt\") as f:\n",
    "    input = f.read()\n",
    "\n",
    "mapping = {\n",
    "    \"A\": 1,\n",
    "    \"B\": 2,\n",
    "    \"C\": 3,\n",
    "    \"X\": 1,\n",
    "    \"Y\": 2,\n",
    "    \"Z\": 3,\n",
    "}\n",
    "\n",
    "def eval_points(opp: str, me: str):\n",
    "    if opp == (me-1) or (opp == 3 and me==1): # win 1<2<3\n",
    "        return me + 6\n",
    "    elif opp == me: # draw\n",
    "        return me + 3\n",
    "    return me # loss\n",
    "\n",
    "def eval_points2(opp:str, end:str):\n",
    "    if end==1: # need to loose\n",
    "        return opp-1 if opp!=1 else 3\n",
    "    elif end==2: # need to draw\n",
    "        return opp + 3\n",
    "    return (opp+1 if opp!=3 else 1) + 6\n",
    "\n",
    "df = pd.DataFrame([round.split(\" \") for round in input.split(\"\\n\")], columns=[\"opp\", \"me\"]).assign(opp=lambda df:df.opp.map(mapping), me=lambda df:df.me.map(mapping))\n",
    "part1 = df.apply(lambda df:eval_points(df.opp, df.me), axis=1).sum()\n",
    "part2 = df.apply(lambda df:eval_points2(df.opp, df.me), axis=1).sum()\n",
    "\n",
    "part1, part2"
   ]
  },
  {
   "cell_type": "markdown",
   "metadata": {},
   "source": [
    "# Day 3 - Rucksack Reorganization"
   ]
  },
  {
   "cell_type": "code",
   "execution_count": 1,
   "metadata": {},
   "outputs": [
    {
     "data": {
      "text/plain": [
       "(8085, 2515)"
      ]
     },
     "execution_count": 1,
     "metadata": {},
     "output_type": "execute_result"
    }
   ],
   "source": [
    "import pandas as pd\n",
    "\n",
    "with open(\"./resources/day3.txt\") as f:\n",
    "    input = f.readlines()\n",
    "\n",
    "alph = \"abcdefghijklmnopqrstuvwxyzABCDEFGHIJKLMNOPQRSTUVWXYZ\"\n",
    "\n",
    "def find_duplicate(left: str, right: str) -> int:\n",
    "    for c in left:\n",
    "        if c in right:\n",
    "            return alph.index(c) + 1\n",
    "\n",
    "def find_duplicate2(first: str, second: str, third: str) -> int:\n",
    "    for c in first:\n",
    "        if c in  second and c in third:\n",
    "            return alph.index(c) + 1\n",
    "\n",
    "\n",
    "df = pd.DataFrame([(line[:len(line) //2], line[len(line) // 2:]) for line in input], columns=[\"left\", \"right\"])\n",
    "part1 = df.apply(lambda df:find_duplicate(df.left, df.right), axis=1).sum()\n",
    "\n",
    "ser = pd.Series([input[i:i+3] for i in range(0, len(input) -2, 3)])\n",
    "part2 = ser.apply(lambda x: find_duplicate2(x[0], x[1], x[2])).sum()\n",
    "\n",
    "part1, part2\n"
   ]
  },
  {
   "cell_type": "markdown",
   "metadata": {},
   "source": [
    "# Day 4 - Camp Cleanup"
   ]
  },
  {
   "cell_type": "code",
   "execution_count": 3,
   "metadata": {},
   "outputs": [
    {
     "data": {
      "text/plain": [
       "'bcd'"
      ]
     },
     "execution_count": 3,
     "metadata": {},
     "output_type": "execute_result"
    }
   ],
   "source": [
    "import pandas as pd\n",
    "import re\n",
    "\n",
    "with open(\"./resources/day4.txt\") as f:\n",
    "    input = f.readlines()\n",
    "\n",
    "pattern = re.compile(r\"(\\d+)-(\\d+),(\\d+)-(\\d+)\")\n",
    "\n",
    "def is_contained(a_start: int, a_end: int, b_start: int, b_end:int) -> int:\n",
    "    if (a_start<=b_start and a_end>=b_end) or (b_start<=a_start and b_end>=a_end):\n",
    "        return 1 # a,b fully contains c,d or c,d fully contains a,b'\n",
    "    return 0\n",
    "\n",
    "def overlap(a_start: int, a_end: int, b_start: int, b_end:int) -> int:\n",
    "    if a_start > b_start:\n",
    "        return overlap(b_start, b_end, a_start, a_end)\n",
    "    elif a_end>=b_start:\n",
    "        return 1\n",
    "    return 0\n",
    "\n",
    "\n",
    "df = pd.DataFrame([re.match(pattern, line).groups() for line in input], columns=[\"a_start\", \"a_end\", \"b_start\", \"b_end\"]).astype(int)\n",
    "part1 = df.apply(lambda df: is_contained(df.a_start, df.a_end, df.b_start, df.b_end), axis=1).sum()\n",
    "part2 = df.apply(lambda df: overlap(df.a_start, df.a_end, df.b_start, df.b_end), axis=1).sum()\n",
    "\n",
    "part1, part2"
   ]
  },
  {
   "cell_type": "markdown",
   "metadata": {},
   "source": [
    "# Day 5 - Supply Stacks"
   ]
  },
  {
   "cell_type": "code",
   "execution_count": 14,
   "metadata": {},
   "outputs": [
    {
     "data": {
      "text/plain": [
       "('RLFNRTNFB', 'MHQTLJRLB')"
      ]
     },
     "execution_count": 14,
     "metadata": {},
     "output_type": "execute_result"
    }
   ],
   "source": [
    "import re\n",
    "\n",
    "with open(\"./resources/day5.txt\") as f:\n",
    "    input = f.readlines()\n",
    "\n",
    "pattern = re.compile(r\"move (\\d+) from (\\d+) to (\\d+)\")\n",
    "\n",
    "def _gen_stacks() -> list:\n",
    "    return [ \"SLW\",\"JTNQ\",\"SCHFJ\",\"TRMWNGB\", \"TRLSDHQB\", \"MJBVFHRL\", \"DWRNJM\", \"BZTFHNDJ\", \"HLQNBFT\"]\n",
    "\n",
    "def _get_result(stks: list) -> str:\n",
    "    res = \"\"\n",
    "    for stk in stks:\n",
    "        res += stk[-1]\n",
    "    return res\n",
    "\n",
    "steps = [re.match(pattern, line).groups() for line in input]\n",
    "\n",
    "def part1():\n",
    "    stks = _gen_stacks()\n",
    "    for step in steps:\n",
    "        amount = int(step[0])\n",
    "        for _ in range(amount):\n",
    "            crate = stks[int(step[1]) -1][-1]\n",
    "            stks[int(step[1]) -1] = stks[int(step[1]) -1].removesuffix(crate)\n",
    "            stks[int(step[2]) -1] += crate\n",
    "    return _get_result(stks)\n",
    "\n",
    "def part2():\n",
    "    stks = _gen_stacks()\n",
    "    for step in steps:\n",
    "        amount = int(step[0])\n",
    "        crates = stks[int(step[1]) -1][-amount:]\n",
    "        stks[int(step[1]) -1] = stks[int(step[1]) -1].removesuffix(crates)\n",
    "        stks[int(step[2]) -1] += crates\n",
    "    return _get_result(stks)\n",
    "\n",
    "part1(), part2()"
   ]
  },
  {
   "cell_type": "markdown",
   "metadata": {},
   "source": [
    "# Day 6 - Tuning Trouble"
   ]
  },
  {
   "cell_type": "code",
   "execution_count": 29,
   "metadata": {},
   "outputs": [
    {
     "data": {
      "text/plain": [
       "(1175, 3217)"
      ]
     },
     "execution_count": 29,
     "metadata": {},
     "output_type": "execute_result"
    }
   ],
   "source": [
    "with open(\"./resources/day6.txt\") as f:\n",
    "    input = f.read()\n",
    "\n",
    "def get_marker(input: str, packet_size: int):\n",
    "    for i in range(len(input) - packet_size):\n",
    "        current_pack = input[i:i+packet_size]\n",
    "        if len(current_pack) == len(set(current_pack)):\n",
    "            return i + packet_size\n",
    "            \n",
    "part1 = get_marker(input, 4)\n",
    "part2 = get_marker(input, 14)\n",
    "\n",
    "part1, part2"
   ]
  },
  {
   "cell_type": "markdown",
   "metadata": {},
   "source": []
  }
 ],
 "metadata": {
  "kernelspec": {
   "display_name": "Python 3.9.12 ('pythondev')",
   "language": "python",
   "name": "python3"
  },
  "language_info": {
   "codemirror_mode": {
    "name": "ipython",
    "version": 3
   },
   "file_extension": ".py",
   "mimetype": "text/x-python",
   "name": "python",
   "nbconvert_exporter": "python",
   "pygments_lexer": "ipython3",
   "version": "3.9.12"
  },
  "orig_nbformat": 4,
  "vscode": {
   "interpreter": {
    "hash": "902eb39722cb678c767ef05cb80ff30d9e48741d20e5fcde732261de87582821"
   }
  }
 },
 "nbformat": 4,
 "nbformat_minor": 2
}
