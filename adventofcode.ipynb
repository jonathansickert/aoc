{
 "cells": [
  {
   "cell_type": "markdown",
   "metadata": {},
   "source": [
    "# Day 1 - Calorie Counting"
   ]
  },
  {
   "cell_type": "code",
   "execution_count": 41,
   "metadata": {},
   "outputs": [
    {
     "data": {
      "text/plain": [
       "(67658, 200158)"
      ]
     },
     "execution_count": 41,
     "metadata": {},
     "output_type": "execute_result"
    }
   ],
   "source": [
    "\n",
    "import pandas as pd\n",
    "\n",
    "with open(\"./resources/day1.txt\") as f:\n",
    "    input = f.read()\n",
    "\n",
    "sums = [pd.Series(elve.split(\"\\n\")).astype(int).sum() for elve in input.split(\"\\n\\n\")]\n",
    "part1 = max(sums)\n",
    "part2 = pd.Series(sums).sort_values(ascending=False).head(3).sum()\n",
    "    \n",
    "part1, part2"
   ]
  },
  {
   "cell_type": "markdown",
   "metadata": {},
   "source": [
    "# Day 2 - Rock Paper Scissors"
   ]
  },
  {
   "cell_type": "code",
   "execution_count": 44,
   "metadata": {},
   "outputs": [
    {
     "data": {
      "text/plain": [
       "(15337, 11696)"
      ]
     },
     "execution_count": 44,
     "metadata": {},
     "output_type": "execute_result"
    }
   ],
   "source": [
    "import pandas as pd\n",
    "\n",
    "with open(\"./resources/day2.txt\") as f:\n",
    "    input = f.read()\n",
    "\n",
    "mapping = {\n",
    "    \"A\": 1,\n",
    "    \"B\": 2,\n",
    "    \"C\": 3,\n",
    "    \"X\": 1,\n",
    "    \"Y\": 2,\n",
    "    \"Z\": 3,\n",
    "}\n",
    "\n",
    "def eval_points(opp: str, me: str):\n",
    "    if opp == (me-1) or (opp == 3 and me==1): # win 1<2<3\n",
    "        return me + 6\n",
    "    elif opp == me: # draw\n",
    "        return me + 3\n",
    "    return me # loss\n",
    "\n",
    "def eval_points2(opp:str, end:str):\n",
    "    if end==1: # need to loose\n",
    "        return opp-1 if opp!=1 else 3\n",
    "    elif end==2: # need to draw\n",
    "        return opp + 3\n",
    "    return (opp+1 if opp!=3 else 1) + 6\n",
    "\n",
    "df = pd.DataFrame([round.split(\" \") for round in input.split(\"\\n\")], columns=[\"opp\", \"me\"]).assign(opp=lambda df:df.opp.map(mapping), me=lambda df:df.me.map(mapping))\n",
    "part1 = df.apply(lambda df:eval_points(df.opp, df.me), axis=1).sum()\n",
    "part2 = df.apply(lambda df:eval_points2(df.opp, df.me), axis=1).sum()\n",
    "\n",
    "part1, part2"
   ]
  },
  {
   "cell_type": "markdown",
   "metadata": {},
   "source": [
    "# Day 3 - Rucksack Reorganization"
   ]
  },
  {
   "cell_type": "code",
   "execution_count": 1,
   "metadata": {},
   "outputs": [
    {
     "data": {
      "text/plain": [
       "(8085, 2515)"
      ]
     },
     "execution_count": 1,
     "metadata": {},
     "output_type": "execute_result"
    }
   ],
   "source": [
    "import pandas as pd\n",
    "\n",
    "with open(\"./resources/day3.txt\") as f:\n",
    "    input = f.readlines()\n",
    "\n",
    "alph = \"abcdefghijklmnopqrstuvwxyzABCDEFGHIJKLMNOPQRSTUVWXYZ\"\n",
    "\n",
    "def find_duplicate(left: str, right: str) -> int:\n",
    "    for c in left:\n",
    "        if c in right:\n",
    "            return alph.index(c) + 1\n",
    "\n",
    "def find_duplicate2(first: str, second: str, third: str) -> int:\n",
    "    for c in first:\n",
    "        if c in  second and c in third:\n",
    "            return alph.index(c) + 1\n",
    "\n",
    "\n",
    "df = pd.DataFrame([(line[:len(line) //2], line[len(line) // 2:]) for line in input], columns=[\"left\", \"right\"])\n",
    "part1 = df.apply(lambda df:find_duplicate(df.left, df.right), axis=1).sum()\n",
    "\n",
    "ser = pd.Series([input[i:i+3] for i in range(0, len(input) -2, 3)])\n",
    "part2 = ser.apply(lambda x: find_duplicate2(x[0], x[1], x[2])).sum()\n",
    "\n",
    "part1, part2\n"
   ]
  },
  {
   "cell_type": "markdown",
   "metadata": {},
   "source": [
    "# Day 4 - Camp Cleanup"
   ]
  },
  {
   "cell_type": "code",
   "execution_count": 3,
   "metadata": {},
   "outputs": [
    {
     "data": {
      "text/plain": [
       "'bcd'"
      ]
     },
     "execution_count": 3,
     "metadata": {},
     "output_type": "execute_result"
    }
   ],
   "source": [
    "import pandas as pd\n",
    "import re\n",
    "\n",
    "with open(\"./resources/day4.txt\") as f:\n",
    "    input = f.readlines()\n",
    "\n",
    "pattern = re.compile(r\"(\\d+)-(\\d+),(\\d+)-(\\d+)\")\n",
    "\n",
    "def is_contained(a_start: int, a_end: int, b_start: int, b_end:int) -> int:\n",
    "    if (a_start<=b_start and a_end>=b_end) or (b_start<=a_start and b_end>=a_end):\n",
    "        return 1 # a,b fully contains c,d or c,d fully contains a,b'\n",
    "    return 0\n",
    "\n",
    "def overlap(a_start: int, a_end: int, b_start: int, b_end:int) -> int:\n",
    "    if a_start > b_start:\n",
    "        return overlap(b_start, b_end, a_start, a_end)\n",
    "    elif a_end>=b_start:\n",
    "        return 1\n",
    "    return 0\n",
    "\n",
    "\n",
    "df = pd.DataFrame([re.match(pattern, line).groups() for line in input], columns=[\"a_start\", \"a_end\", \"b_start\", \"b_end\"]).astype(int)\n",
    "part1 = df.apply(lambda df: is_contained(df.a_start, df.a_end, df.b_start, df.b_end), axis=1).sum()\n",
    "part2 = df.apply(lambda df: overlap(df.a_start, df.a_end, df.b_start, df.b_end), axis=1).sum()\n",
    "\n",
    "part1, part2"
   ]
  },
  {
   "cell_type": "markdown",
   "metadata": {},
   "source": [
    "# Day 5 - Supply Stacks"
   ]
  },
  {
   "cell_type": "code",
   "execution_count": 14,
   "metadata": {},
   "outputs": [
    {
     "data": {
      "text/plain": [
       "('RLFNRTNFB', 'MHQTLJRLB')"
      ]
     },
     "execution_count": 14,
     "metadata": {},
     "output_type": "execute_result"
    }
   ],
   "source": [
    "import re\n",
    "\n",
    "with open(\"./resources/day5.txt\") as f:\n",
    "    input = f.readlines()\n",
    "\n",
    "pattern = re.compile(r\"move (\\d+) from (\\d+) to (\\d+)\")\n",
    "\n",
    "def _gen_stacks() -> list:\n",
    "    return [ \"SLW\",\"JTNQ\",\"SCHFJ\",\"TRMWNGB\", \"TRLSDHQB\", \"MJBVFHRL\", \"DWRNJM\", \"BZTFHNDJ\", \"HLQNBFT\"]\n",
    "\n",
    "def _get_result(stks: list) -> str:\n",
    "    res = \"\"\n",
    "    for stk in stks:\n",
    "        res += stk[-1]\n",
    "    return res\n",
    "\n",
    "steps = [re.match(pattern, line).groups() for line in input]\n",
    "\n",
    "def part1():\n",
    "    stks = _gen_stacks()\n",
    "    for step in steps:\n",
    "        amount = int(step[0])\n",
    "        for _ in range(amount):\n",
    "            crate = stks[int(step[1]) -1][-1]\n",
    "            stks[int(step[1]) -1] = stks[int(step[1]) -1].removesuffix(crate)\n",
    "            stks[int(step[2]) -1] += crate\n",
    "    return _get_result(stks)\n",
    "\n",
    "def part2():\n",
    "    stks = _gen_stacks()\n",
    "    for step in steps:\n",
    "        amount = int(step[0])\n",
    "        crates = stks[int(step[1]) -1][-amount:]\n",
    "        stks[int(step[1]) -1] = stks[int(step[1]) -1].removesuffix(crates)\n",
    "        stks[int(step[2]) -1] += crates\n",
    "    return _get_result(stks)\n",
    "\n",
    "part1(), part2()"
   ]
  },
  {
   "cell_type": "markdown",
   "metadata": {},
   "source": [
    "# Day 6 - Tuning Trouble"
   ]
  },
  {
   "cell_type": "code",
   "execution_count": 29,
   "metadata": {},
   "outputs": [
    {
     "data": {
      "text/plain": [
       "(1175, 3217)"
      ]
     },
     "execution_count": 29,
     "metadata": {},
     "output_type": "execute_result"
    }
   ],
   "source": [
    "with open(\"./resources/day6.txt\") as f:\n",
    "    input = f.read()\n",
    "\n",
    "def get_marker(input: str, packet_size: int):\n",
    "    for i in range(len(input) - packet_size):\n",
    "        current_pack = input[i:i+packet_size]\n",
    "        if len(current_pack) == len(set(current_pack)):\n",
    "            return i + packet_size\n",
    "            \n",
    "part1 = get_marker(input, 4)\n",
    "part2 = get_marker(input, 14)\n",
    "\n",
    "part1, part2"
   ]
  },
  {
   "cell_type": "markdown",
   "metadata": {},
   "source": [
    "## Day 7 - No Space Left on Device"
   ]
  },
  {
   "cell_type": "code",
   "execution_count": 96,
   "metadata": {},
   "outputs": [
    {
     "data": {
      "text/plain": [
       "(1315285, 9847279)"
      ]
     },
     "execution_count": 96,
     "metadata": {},
     "output_type": "execute_result"
    }
   ],
   "source": [
    "from __future__ import annotations\n",
    "from dataclasses import dataclass, field\n",
    "from typing import Optional, Hashable\n",
    "import re\n",
    "\n",
    "CD_PATTERN = re.compile(r\"\\$ cd (\\S+)\")\n",
    "LS_FILE_PATTERN = re.compile(r\"(\\d+) (.+)\")\n",
    "LS_DIR_PATTERN = re.compile(r\"dir (.+)\")\n",
    "\n",
    "CD_UP_CMD = \"$ cd ..\"\n",
    "CD_ROOT_CMD = \"$ cd /\"\n",
    "\n",
    "with open(\"./resources/day7.txt\") as f:\n",
    "    input = f.read()\n",
    "    input = input.split(\"\\n\")\n",
    "\n",
    "@dataclass(eq=True)\n",
    "class Item(Hashable):\n",
    "    name: str = field(compare=True)\n",
    "    def __hash__(self) -> int:\n",
    "        return hash(self.name)\n",
    "\n",
    "@dataclass(eq=True)\n",
    "class File(Item):\n",
    "    __hash__ = Item.__hash__\n",
    "    size: int\n",
    "\n",
    "@dataclass(eq=True)\n",
    "class Dir(Item):\n",
    "    __hash__ = Item.__hash__\n",
    "    dirs: set[Dir] = field(default_factory=set)\n",
    "    files: set[File] = field(default_factory=set)\n",
    "    \n",
    "    def cd(self, name: str) -> Optional[Dir]:\n",
    "        for dir in self.dirs:\n",
    "            if dir.name == name:\n",
    "                return dir\n",
    "        return None\n",
    "    \n",
    "    @property\n",
    "    def file_size(self):\n",
    "        sum = 0\n",
    "        for file in self.files:\n",
    "            sum += file.size\n",
    "        return sum \n",
    "\n",
    "    def total_size(self, func = None, *args) -> int:\n",
    "        sum = 0\n",
    "        for dir in self.dirs:\n",
    "            dir_size = dir.total_size(func, *args)\n",
    "            if func is not None:\n",
    "                func(dir_size, *args)\n",
    "            sum+=dir_size\n",
    "        return sum + self.file_size\n",
    "\n",
    "def size_less_than_threshold(dir_size : int, result: list[int], threshold: int):\n",
    "    if dir_size<=threshold:\n",
    "        result.append(dir_size)\n",
    "\n",
    "def size_higher_than_threshold(dir_size : int, result: list[int], threshold: int):\n",
    "    if dir_size>=threshold:\n",
    "        result.append(dir_size)\n",
    "    \n",
    "def get_filesystem(input: list[str]) -> Dir:\n",
    "    root = Dir(name=\"/\")\n",
    "    stack = [root]\n",
    "    for line in input:\n",
    "        current = stack[-1]\n",
    "        if line == CD_UP_CMD:\n",
    "            stack.pop()\n",
    "        elif line == CD_ROOT_CMD:\n",
    "            stack = [root]\n",
    "        elif re.match(CD_PATTERN, line) is not None: # cd command\n",
    "            name = re.match(CD_PATTERN, line).groups()[0]\n",
    "            stack.append(current.cd(name))\n",
    "        elif re.match(LS_FILE_PATTERN, line) is not None: # ls found file\n",
    "            match = re.match(LS_FILE_PATTERN, line).groups()\n",
    "            file = File(name=match[1], size=int(match[0]))\n",
    "            current.files.add(file)\n",
    "        elif re.match(LS_DIR_PATTERN, line) is not None:\n",
    "            match = re.match(LS_DIR_PATTERN, line).groups()\n",
    "            dir = Dir(name = match[0])\n",
    "            current.dirs.add(dir)\n",
    "    return root\n",
    "\n",
    "def part1(input: list[str]):\n",
    "    root = get_filesystem(input)\n",
    "    values = []\n",
    "    root.total_size(size_less_than_threshold, values, 100000)\n",
    "    return sum(values)\n",
    "\n",
    "def part2(input: list[str]):\n",
    "    root = get_filesystem(input)\n",
    "    actual_size = root.total_size()\n",
    "    space_to_clear = actual_size - 40000000\n",
    "    values = []\n",
    "    root.total_size(size_higher_than_threshold, values, space_to_clear)\n",
    "    return min(values)\n",
    "\n",
    "part1 = part1(input)\n",
    "part2 = part2(input)\n",
    "\n",
    "part1, part2"
   ]
  },
  {
   "cell_type": "markdown",
   "metadata": {},
   "source": [
    "# Day 8 - Treetop Tree House"
   ]
  },
  {
   "cell_type": "code",
   "execution_count": 118,
   "metadata": {},
   "outputs": [
    {
     "data": {
      "text/plain": [
       "(1543, 595080)"
      ]
     },
     "execution_count": 118,
     "metadata": {},
     "output_type": "execute_result"
    }
   ],
   "source": [
    "import numpy as np\n",
    "\n",
    "with open(\"./resources/day8.txt\")as f:\n",
    "    input = f.read().splitlines()\n",
    "    matrix = np.matrix([list(row) for row in input], dtype=int)\n",
    "\n",
    "def get_number_visible_trees(matrix: np.matrix) -> int:\n",
    "    transposed = matrix.T\n",
    "    sum = 0\n",
    "    for i in range(1, len(matrix)-1): # iterate inner rows, i index of row\n",
    "        row = np.squeeze(np.asarray(matrix[i]))\n",
    "        for j in range(1, len(row)-1): # iterate inner columns, j index of column\n",
    "            col = np.squeeze(np.asarray(transposed[j]))\n",
    "            if min(max(row[:j]),max(row[j+1:]),max(col[:i]),max(col[i+1:])) < row[j]:\n",
    "                sum+=1\n",
    "    return sum+ 2*matrix.shape[0] + 2*matrix.shape[1] -4\n",
    "\n",
    "def get_vd(height: int, arr: np.ndarray, flip: bool = False):\n",
    "    if flip:\n",
    "        arr = arr[::-1]\n",
    "    for i, value in enumerate(arr):\n",
    "        if height <= value:\n",
    "            return i+1\n",
    "    return len(arr)\n",
    "\n",
    "def get_scenic_score(matrix: np.matrix) -> int:\n",
    "    transposed = matrix.T\n",
    "    result = 0\n",
    "    for i in range(1, len(matrix) -1):\n",
    "        row = np.squeeze(np.asarray(matrix[i]))\n",
    "        for j in range(1, len(row) -1):\n",
    "            col = np.squeeze(np.asarray(transposed[j]))\n",
    "            cur = row[j]\n",
    "            prod = get_vd(cur, row[:j], flip=True) *  get_vd(cur, row[j+1:]) * get_vd(cur, col[:i], flip=True) *  get_vd(cur, col[i+1:])\n",
    "            if prod > result:\n",
    "                result = prod\n",
    "    return result\n",
    "\n",
    "part1 = get_number_visible_trees(matrix)\n",
    "part2 = get_scenic_score(matrix)\n",
    "\n",
    "part1, part2"
   ]
  },
  {
   "cell_type": "markdown",
   "metadata": {},
   "source": [
    "# Day 9 - Rope Bridge"
   ]
  },
  {
   "cell_type": "code",
   "execution_count": 175,
   "metadata": {},
   "outputs": [
    {
     "data": {
      "text/plain": [
       "(6236, 2449)"
      ]
     },
     "execution_count": 175,
     "metadata": {},
     "output_type": "execute_result"
    }
   ],
   "source": [
    "from __future__ import annotations\n",
    "from dataclasses import dataclass\n",
    "from typing import Optional\n",
    "\n",
    "with open(\"./resources/day9.txt\") as f:\n",
    "    input = f.readlines()\n",
    "    steps = [line.split(\" \") for line in input]\n",
    "    steps = [(step[0], int(step[1])) for step in steps]\n",
    "\n",
    "signum = lambda x: 1 if x>0 else -1 if x<0 else 0\n",
    "moving_distance = lambda x: (abs(x)-1)*signum(x)\n",
    "\n",
    "@dataclass\n",
    "class Knot:\n",
    "    x: int\n",
    "    y: int\n",
    "    head: Optional[Knot] = None\n",
    "\n",
    "    @property\n",
    "    def pos(self):\n",
    "        return (self.x, self.y)\n",
    "    \n",
    "    def update(self):\n",
    "        dx = self.head.x - self.x\n",
    "        dy = self.head.y - self.y\n",
    "        if dx == dy == 0: # same pos\n",
    "            return\n",
    "        if abs(dx) == abs(dy) == 1: # direct diagonal\n",
    "            return\n",
    "        if dx == 0: # both on same x-axis\n",
    "            self.y += moving_distance(dy)\n",
    "        elif dy == 0: # both on same y-axis\n",
    "            self.x += moving_distance(dx)\n",
    "        else: # two-wide diagonal\n",
    "            self.x += signum(dx)\n",
    "            self.y += signum(dy)\n",
    "\n",
    "    def move(self, direction: str):\n",
    "        if direction == \"L\":\n",
    "            self.x -= 1\n",
    "        elif direction == \"R\":\n",
    "            self.x += 1\n",
    "        elif direction == \"U\":\n",
    "            self.y += 1\n",
    "        elif direction == \"D\":\n",
    "            self.y -= 1\n",
    "\n",
    "def gen_rope(length: int) -> tuple[Knot, list[Knot], Knot]:\n",
    "    head = Knot(0,0)\n",
    "    current_head = head\n",
    "    l = [head]\n",
    "    for _ in range(length-1):\n",
    "        knot = Knot(0,0,current_head)\n",
    "        current_head = knot\n",
    "        l.append(knot)\n",
    "    return head, l, l[-1]\n",
    "\n",
    "def get_visited_positions(rope_length: int, steps: list[tuple[str, int]]):\n",
    "    head, rope, tail = gen_rope(rope_length)\n",
    "    visits = set()\n",
    "    visits.add(tail.pos)\n",
    "    for step in steps:\n",
    "        direction = step[0]\n",
    "        length = step[1]\n",
    "        for _ in range(length):\n",
    "            head.move(direction)\n",
    "            for knot in rope[1:]:\n",
    "                knot.update()\n",
    "            visits.add(tail.pos)\n",
    "    return len(visits)\n",
    "\n",
    "part1 = get_visited_positions(2, steps)\n",
    "part2 = get_visited_positions(10, steps)\n",
    "\n",
    "part1, part2"
   ]
  }
 ],
 "metadata": {
  "kernelspec": {
   "display_name": "Python 3.9.12 ('pythondev')",
   "language": "python",
   "name": "python3"
  },
  "language_info": {
   "codemirror_mode": {
    "name": "ipython",
    "version": 3
   },
   "file_extension": ".py",
   "mimetype": "text/x-python",
   "name": "python",
   "nbconvert_exporter": "python",
   "pygments_lexer": "ipython3",
   "version": "3.9.12"
  },
  "orig_nbformat": 4,
  "vscode": {
   "interpreter": {
    "hash": "902eb39722cb678c767ef05cb80ff30d9e48741d20e5fcde732261de87582821"
   }
  }
 },
 "nbformat": 4,
 "nbformat_minor": 2
}
