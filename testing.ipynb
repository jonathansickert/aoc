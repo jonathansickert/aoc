{
 "cells": [
  {
   "cell_type": "code",
   "execution_count": 4,
   "metadata": {},
   "outputs": [],
   "source": [
    "with open(\"./ressources/sonar_sweep.txt\", \"r\") as f:\n",
    "    file = f.readlines()\n",
    "    file = [int(x.replace(\"\\n\", \"\")) for x in file]"
   ]
  },
  {
   "cell_type": "code",
   "execution_count": 1,
   "metadata": {},
   "outputs": [],
   "source": [
    "import pandas as pd"
   ]
  },
  {
   "cell_type": "code",
   "execution_count": 3,
   "metadata": {},
   "outputs": [
    {
     "ename": "NameError",
     "evalue": "name 'file' is not defined",
     "output_type": "error",
     "traceback": [
      "\u001b[0;31m---------------------------------------------------------------------------\u001b[0m",
      "\u001b[0;31mNameError\u001b[0m                                 Traceback (most recent call last)",
      "\u001b[1;32m/Users/jonathansickert/coding/advent_of_code/testing.ipynb Cell 3'\u001b[0m in \u001b[0;36m<cell line: 1>\u001b[0;34m()\u001b[0m\n\u001b[0;32m----> <a href='vscode-notebook-cell:/Users/jonathansickert/coding/advent_of_code/testing.ipynb#ch0000002?line=0'>1</a>\u001b[0m df \u001b[39m=\u001b[39m pd\u001b[39m.\u001b[39mSeries(file)\u001b[39m.\u001b[39mdiff()\n\u001b[1;32m      <a href='vscode-notebook-cell:/Users/jonathansickert/coding/advent_of_code/testing.ipynb#ch0000002?line=1'>2</a>\u001b[0m df\u001b[39m.\u001b[39mloc[df\u001b[39m>\u001b[39m\u001b[39m0\u001b[39m]\n",
      "\u001b[0;31mNameError\u001b[0m: name 'file' is not defined"
     ]
    }
   ],
   "source": [
    "df = pd.Series(file).diff()\n",
    "df.loc[df>0]\n",
    "\n",
    "\n",
    "\n"
   ]
  },
  {
   "cell_type": "code",
   "execution_count": 24,
   "metadata": {},
   "outputs": [
    {
     "data": {
      "text/plain": [
       "1        9.0\n",
       "2        3.0\n",
       "4        2.0\n",
       "6        2.0\n",
       "7       11.0\n",
       "        ... \n",
       "1993    13.0\n",
       "1994    12.0\n",
       "1995     8.0\n",
       "1996     6.0\n",
       "1997     2.0\n",
       "Length: 1797, dtype: float64"
      ]
     },
     "execution_count": 24,
     "metadata": {},
     "output_type": "execute_result"
    }
   ],
   "source": [
    "df2 = pd.Series(file)\n",
    "\n",
    "df2 = pd.Series([\n",
    "    (df2.loc[i]+ df2.loc[i+1]+df2.loc[i+2])\n",
    "    for i in range(df2.size-2)\n",
    "]).diff()\n",
    "\n",
    "solution2 = df2.loc[df2>0].size\n",
    "\n",
    "\n",
    "\n"
   ]
  }
 ],
 "metadata": {
  "kernelspec": {
   "display_name": "Python 3.9.12 ('pythondev')",
   "language": "python",
   "name": "python3"
  },
  "language_info": {
   "codemirror_mode": {
    "name": "ipython",
    "version": 3
   },
   "file_extension": ".py",
   "mimetype": "text/x-python",
   "name": "python",
   "nbconvert_exporter": "python",
   "pygments_lexer": "ipython3",
   "version": "3.9.12"
  },
  "orig_nbformat": 4,
  "vscode": {
   "interpreter": {
    "hash": "902eb39722cb678c767ef05cb80ff30d9e48741d20e5fcde732261de87582821"
   }
  }
 },
 "nbformat": 4,
 "nbformat_minor": 2
}
